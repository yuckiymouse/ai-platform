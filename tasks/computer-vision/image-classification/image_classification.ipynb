{
 "cells": [
  {
   "cell_type": "code",
   "execution_count": 1,
   "metadata": {},
   "outputs": [
    {
     "name": "stderr",
     "output_type": "stream",
     "text": [
      "Using TensorFlow backend.\n"
     ]
    }
   ],
   "source": [
    "import os\n",
    "import keras\n",
    "from keras.models import Sequential\n",
    "from keras.layers.convolutional import Conv2D\n",
    "from keras.layers.convolutional import MaxPooling2D\n",
    "from keras.layers.core import Activation\n",
    "from keras.layers.core import Flatten, Dropout\n",
    "from keras.layers.core import Dense\n",
    "from keras.datasets import cifar10\n",
    "from keras.optimizers import RMSprop\n",
    "from keras.callbacks import TensorBoard, ModelCheckpoint"
   ]
  },
  {
   "cell_type": "code",
   "execution_count": 2,
   "metadata": {},
   "outputs": [],
   "source": [
    "# data prepararion\n",
    "class CIFAR10Dataset():\n",
    "    def __init__(self):\n",
    "        \n",
    "        # image shape\n",
    "        self.image_shape = (32,32,3)\n",
    "        self.num_classes = 10\n",
    "        \n",
    "    def get_batch(self):\n",
    "        (X_train, y_train), (X_test, y_test) = cifar10.load_data()\n",
    "        X_train, X_test = [self.preprocess(d) for d in [X_train, X_test]]\n",
    "        y_train, y_test = \\\n",
    "        [self.preprocess(d, label_data=True) for d in [y_train, y_test]]\n",
    "        return X_train, y_train, X_test, y_test\n",
    "      \n",
    "        \n",
    "    def preprocess(self, data, label_data=False):\n",
    "        # for labels\n",
    "        if label_data:\n",
    "            # convert class vectors to binary class matrices\n",
    "            data = keras.utils.to_categorical(data, self.num_classes)\n",
    "            \n",
    "        # for pixels data\n",
    "        else:\n",
    "            data = data.astype('float32')\n",
    "            # convert the value to 0~1 scale (pixel's max value = 255)\n",
    "            data = data / 255\n",
    "            # add data set length to top\n",
    "            shape = (data.shape[0], ) + self.image_shape\n",
    "            data = data.reshape(shape)\n",
    "            \n",
    "        return data"
   ]
  },
  {
   "cell_type": "code",
   "execution_count": 3,
   "metadata": {},
   "outputs": [],
   "source": [
    "# LeNet network\n",
    "def network(input_shape, num_classes):\n",
    "    model = Sequential()\n",
    "    \n",
    "    # extract image features by convolution and max pooling layers\n",
    "    model.add(Conv2D(32, kernel_size=3, padding='same',\n",
    "                    input_shape=input_shape, activation='relu'))\n",
    "    \n",
    "    model.add(MaxPooling2D(pool_size=(2,2)))\n",
    "    model.add(Dropout(0.25))\n",
    "    model.add(Conv2D(64, kernel_size=3, padding='same', activation='relu'))\n",
    "    model.add(MaxPooling2D(pool_size=(2,2)))\n",
    "    model.add(Dropout(0.25))\n",
    "    model.add(Conv2D(64, kernel_size=3, padding='same', activation='relu'))\n",
    "    model.add(MaxPooling2D(pool_size=(2,2)))\n",
    "    model.add(Dropout(0.25))\n",
    "    \n",
    "    # classifiy the class by fully-connected layers\n",
    "    model.add(Flatten())\n",
    "    model.add(Dense(512, activation='relu'))\n",
    "    model.add(Dropout(0.5))\n",
    "    model.add(Dense(num_classes))\n",
    "    model.add(Activation('softmax'))\n",
    "    return model"
   ]
  },
  {
   "cell_type": "code",
   "execution_count": 4,
   "metadata": {},
   "outputs": [],
   "source": [
    "class Trainer():\n",
    "    def __init__(self, model, loss, optimizer):\n",
    "        self._target = model\n",
    "        self._target.compile(loss=loss, optimizer=optimizer,metrics=['accuracy'])\n",
    "        self.verbose = 1\n",
    "        self.log_dir = os.path.join(os.path.dirname(os.path.abspath('__file__')),'logdir')\n",
    "        self.model_file_name = 'model_file.hdf5'\n",
    "        \n",
    "    def train(self, X_train, y_train, batch_size, epochs, validation_split):\n",
    "        if os.path.exists(self.log_dir):\n",
    "            import shutil\n",
    "            # remove previous execution\n",
    "            shutil.rmtree(self.log_dir)\n",
    "        else:\n",
    "            pass\n",
    "        os.mkdir(self.log_dir)\n",
    "        \n",
    "        self._target.fit(\n",
    "            X_train, y_train,\n",
    "            batch_size=batch_size,\n",
    "            epochs=epochs, \n",
    "            validation_split=validation_split,\n",
    "            callbacks=[TensorBoard(log_dir=self.log_dir),\n",
    "                      ModelCheckpoint(os.path.join(self.log_dir,\n",
    "                                    self.model_file_name),\n",
    "                                      save_best_only=True)],\n",
    "             verbose=self.verbose\n",
    "        )"
   ]
  },
  {
   "cell_type": "code",
   "execution_count": 5,
   "metadata": {},
   "outputs": [],
   "source": [
    "dataset = CIFAR10Dataset()"
   ]
  },
  {
   "cell_type": "code",
   "execution_count": 6,
   "metadata": {},
   "outputs": [
    {
     "name": "stderr",
     "output_type": "stream",
     "text": [
      "WARNING: Logging before flag parsing goes to stderr.\n",
      "W0829 05:50:11.420139 29128 deprecation_wrapper.py:119] From C:\\Users\\gudeg\\Anaconda3\\lib\\site-packages\\keras\\backend\\tensorflow_backend.py:74: The name tf.get_default_graph is deprecated. Please use tf.compat.v1.get_default_graph instead.\n",
      "\n",
      "W0829 05:50:11.453082 29128 deprecation_wrapper.py:119] From C:\\Users\\gudeg\\Anaconda3\\lib\\site-packages\\keras\\backend\\tensorflow_backend.py:517: The name tf.placeholder is deprecated. Please use tf.compat.v1.placeholder instead.\n",
      "\n",
      "W0829 05:50:11.459037 29128 deprecation_wrapper.py:119] From C:\\Users\\gudeg\\Anaconda3\\lib\\site-packages\\keras\\backend\\tensorflow_backend.py:4138: The name tf.random_uniform is deprecated. Please use tf.random.uniform instead.\n",
      "\n",
      "W0829 05:50:11.496934 29128 deprecation_wrapper.py:119] From C:\\Users\\gudeg\\Anaconda3\\lib\\site-packages\\keras\\backend\\tensorflow_backend.py:3976: The name tf.nn.max_pool is deprecated. Please use tf.nn.max_pool2d instead.\n",
      "\n",
      "W0829 05:50:11.502918 29128 deprecation_wrapper.py:119] From C:\\Users\\gudeg\\Anaconda3\\lib\\site-packages\\keras\\backend\\tensorflow_backend.py:133: The name tf.placeholder_with_default is deprecated. Please use tf.compat.v1.placeholder_with_default instead.\n",
      "\n",
      "W0829 05:50:11.519872 29128 deprecation.py:506] From C:\\Users\\gudeg\\Anaconda3\\lib\\site-packages\\keras\\backend\\tensorflow_backend.py:3445: calling dropout (from tensorflow.python.ops.nn_ops) with keep_prob is deprecated and will be removed in a future version.\n",
      "Instructions for updating:\n",
      "Please use `rate` instead of `keep_prob`. Rate should be set to `rate = 1 - keep_prob`.\n"
     ]
    }
   ],
   "source": [
    "# make model\n",
    "model = network(dataset.image_shape, dataset.num_classes)"
   ]
  },
  {
   "cell_type": "code",
   "execution_count": 11,
   "metadata": {},
   "outputs": [
    {
     "name": "stdout",
     "output_type": "stream",
     "text": [
      "Train on 40000 samples, validate on 10000 samples\n",
      "Epoch 1/15\n",
      "40000/40000 [==============================] - 74s 2ms/step - loss: 0.9808 - acc: 0.6739 - val_loss: 0.9700 - val_acc: 0.6840\n",
      "Epoch 2/15\n",
      "40000/40000 [==============================] - 73s 2ms/step - loss: 0.9279 - acc: 0.6902 - val_loss: 0.8044 - val_acc: 0.7322\n",
      "Epoch 3/15\n",
      "40000/40000 [==============================] - 73s 2ms/step - loss: 0.9116 - acc: 0.6940 - val_loss: 0.9536 - val_acc: 0.7137\n",
      "Epoch 4/15\n",
      "40000/40000 [==============================] - 73s 2ms/step - loss: 0.9000 - acc: 0.6946 - val_loss: 0.8122 - val_acc: 0.7275\n",
      "Epoch 5/15\n",
      "40000/40000 [==============================] - 74s 2ms/step - loss: 0.9010 - acc: 0.6979 - val_loss: 0.8936 - val_acc: 0.7214\n",
      "Epoch 6/15\n",
      "40000/40000 [==============================] - 73s 2ms/step - loss: 0.8955 - acc: 0.6995 - val_loss: 0.8324 - val_acc: 0.7236\n",
      "Epoch 7/15\n",
      "40000/40000 [==============================] - 73s 2ms/step - loss: 0.8837 - acc: 0.7011 - val_loss: 0.8683 - val_acc: 0.7181\n",
      "Epoch 8/15\n",
      "40000/40000 [==============================] - 74s 2ms/step - loss: 0.8858 - acc: 0.7020 - val_loss: 0.8354 - val_acc: 0.7268\n",
      "Epoch 9/15\n",
      "40000/40000 [==============================] - 73s 2ms/step - loss: 0.8746 - acc: 0.7072 - val_loss: 1.0029 - val_acc: 0.6610\n",
      "Epoch 10/15\n",
      "40000/40000 [==============================] - 73s 2ms/step - loss: 0.8780 - acc: 0.7061 - val_loss: 0.8257 - val_acc: 0.7342\n",
      "Epoch 11/15\n",
      "40000/40000 [==============================] - 74s 2ms/step - loss: 0.8658 - acc: 0.7099 - val_loss: 0.8679 - val_acc: 0.7106\n",
      "Epoch 12/15\n",
      "40000/40000 [==============================] - 73s 2ms/step - loss: 0.8638 - acc: 0.7104 - val_loss: 0.8212 - val_acc: 0.7254\n",
      "Epoch 13/15\n",
      "40000/40000 [==============================] - 74s 2ms/step - loss: 0.8540 - acc: 0.7138 - val_loss: 0.7894 - val_acc: 0.7424\n",
      "Epoch 14/15\n",
      "40000/40000 [==============================] - 74s 2ms/step - loss: 0.8556 - acc: 0.7115 - val_loss: 0.8747 - val_acc: 0.7187\n",
      "Epoch 15/15\n",
      "40000/40000 [==============================] - 73s 2ms/step - loss: 0.8531 - acc: 0.7153 - val_loss: 0.8444 - val_acc: 0.7227\n"
     ]
    }
   ],
   "source": [
    "# prepare data\n",
    "X_train, y_train, X_test, y_test = dataset.get_batch()\n",
    "\n",
    "# train the model\n",
    "trainer = Trainer(model, loss='categorical_crossentropy',\n",
    "                 optimizer=RMSprop())\n",
    "\n",
    "trainer.train(X_train, y_train, batch_size=128, epochs=15, validation_split=0.2)"
   ]
  },
  {
   "cell_type": "code",
   "execution_count": 12,
   "metadata": {},
   "outputs": [],
   "source": [
    "# show result\n",
    "score = model.evaluate(X_test, y_test, verbose=0)"
   ]
  },
  {
   "cell_type": "code",
   "execution_count": 13,
   "metadata": {},
   "outputs": [
    {
     "name": "stdout",
     "output_type": "stream",
     "text": [
      "Test loss: 0.8480859862327575\n",
      "Test accuracy: 0.7149\n"
     ]
    }
   ],
   "source": [
    "print('Test loss:', score[0])\n",
    "print('Test accuracy:', score[1])"
   ]
  },
  {
   "cell_type": "code",
   "execution_count": null,
   "metadata": {},
   "outputs": [],
   "source": []
  },
  {
   "cell_type": "code",
   "execution_count": null,
   "metadata": {},
   "outputs": [],
   "source": []
  }
 ],
 "metadata": {
  "kernelspec": {
   "display_name": "Python 3",
   "language": "python",
   "name": "python3"
  },
  "language_info": {
   "codemirror_mode": {
    "name": "ipython",
    "version": 3
   },
   "file_extension": ".py",
   "mimetype": "text/x-python",
   "name": "python",
   "nbconvert_exporter": "python",
   "pygments_lexer": "ipython3",
   "version": "3.7.3"
  }
 },
 "nbformat": 4,
 "nbformat_minor": 2
}
