{
 "cells": [
  {
   "cell_type": "code",
   "execution_count": 1,
   "metadata": {},
   "outputs": [
    {
     "name": "stderr",
     "output_type": "stream",
     "text": [
      "Using TensorFlow backend.\n"
     ]
    }
   ],
   "source": [
    "import os\n",
    "import keras\n",
    "from keras.models import Sequential\n",
    "from keras.layers.convolutional import Conv2D\n",
    "from keras.layers.convolutional import MaxPooling2D\n",
    "from keras.layers.core import Activation\n",
    "from keras.layers.core import Flatten, Dropout\n",
    "from keras.layers.core import Dense\n",
    "from keras.datasets import cifar10\n",
    "from keras.optimizers import RMSprop\n",
    "from keras.callbacks import TensorBoard, ModelCheckpoint"
   ]
  },
  {
   "cell_type": "code",
   "execution_count": 2,
   "metadata": {},
   "outputs": [],
   "source": [
    "# data prepararion\n",
    "class CIFAR10Dataset():\n",
    "    def __init__(self):\n",
    "        \n",
    "        # image shape\n",
    "        self.image_shape = (32,32,3)\n",
    "        self.num_classes = 10\n",
    "        \n",
    "    def get_batch(self):\n",
    "        (X_train, y_train), (X_test, y_test) = cifar10.load_data()\n",
    "        X_train, X_test = [self.preprocess(d) for d in [X_train, X_test]]\n",
    "        y_train, y_test = \\\n",
    "        [self.preprocess(d, label_data=True) for d in [y_train, y_test]]\n",
    "        return X_train, y_train, X_test, y_test\n",
    "      \n",
    "        \n",
    "    def preprocess(self, data, label_data=False):\n",
    "        # for labels\n",
    "        if label_data:\n",
    "            # convert class vectors to binary class matrices\n",
    "            data = keras.utils.to_categorical(data, self.num_classes)\n",
    "            \n",
    "        # for pixels data\n",
    "        else:\n",
    "            data = data.astype('float32')\n",
    "            # convert the value to 0~1 scale (pixel's max value = 255)\n",
    "            data = data / 255\n",
    "            # add data set length to top\n",
    "            shape = (data.shape[0], ) + self.image_shape\n",
    "            data = data.reshape(shape)\n",
    "            \n",
    "        return data"
   ]
  },
  {
   "cell_type": "code",
   "execution_count": 3,
   "metadata": {},
   "outputs": [],
   "source": [
    "# LeNet network\n",
    "def network(input_shape, num_classes):\n",
    "    model = Sequential()\n",
    "    \n",
    "    # extract image features by convolution and max pooling layers\n",
    "    model.add(Conv2D(32, kernel_size=3, padding='same',\n",
    "                    input_shape=input_shape, activation='relu'))\n",
    "    \n",
    "    model.add(MaxPooling2D(pool_size=(2,2)))\n",
    "    model.add(Dropout(0.25))\n",
    "    model.add(Conv2D(64, kernel_size=3, padding='same', activation='relu'))\n",
    "    model.add(MaxPooling2D(pool_size=(2,2)))\n",
    "    model.add(Dropout(0.25))\n",
    "    model.add(Conv2D(64, kernel_size=3, padding='same', activation='relu'))\n",
    "    model.add(MaxPooling2D(pool_size=(2,2)))\n",
    "    model.add(Dropout(0.25))\n",
    "    \n",
    "    # classifiy the class by fully-connected layers\n",
    "    model.add(Flatten())\n",
    "    model.add(Dense(512, activation='relu'))\n",
    "    model.add(Dropout(0.5))\n",
    "    model.add(Dense(num_classes))\n",
    "    model.add(Activation('softmax'))\n",
    "    return model"
   ]
  },
  {
   "cell_type": "code",
   "execution_count": 4,
   "metadata": {},
   "outputs": [],
   "source": [
    "class Trainer():\n",
    "    def __init__(self, model, loss, optimizer):\n",
    "        self._target = model\n",
    "        self._target.compile(loss=loss, optimizer=optimizer,metrics=['accuracy'])\n",
    "        self.verbose = 1\n",
    "        self.log_dir = os.path.join(os.path.dirname(os.path.abspath('__file__')),'logdir')\n",
    "        self.model_file_name = 'model_file.hdf5'\n",
    "        \n",
    "    def train(self, X_train, y_train, batch_size, epochs, validation_split):\n",
    "        if os.path.exists(self.log_dir):\n",
    "            import shutil\n",
    "            # remove previous execution\n",
    "            shutil.rmtree(self.log_dir)\n",
    "        else:\n",
    "            pass\n",
    "        os.mkdir(self.log_dir)\n",
    "        \n",
    "        self._target.fit(\n",
    "            X_train, y_train,\n",
    "            batch_size=batch_size,\n",
    "            epochs=epochs, \n",
    "            validation_split=validation_split,\n",
    "            callbacks=[TensorBoard(log_dir=self.log_dir),\n",
    "                      ModelCheckpoint(os.path.join(self.log_dir,\n",
    "                                    self.model_file_name),\n",
    "                                      save_best_only=True)],\n",
    "             verbose=self.verbose\n",
    "        )"
   ]
  },
  {
   "cell_type": "code",
   "execution_count": 5,
   "metadata": {},
   "outputs": [],
   "source": [
    "dataset = CIFAR10Dataset()"
   ]
  },
  {
   "cell_type": "code",
   "execution_count": 6,
   "metadata": {},
   "outputs": [
    {
     "name": "stderr",
     "output_type": "stream",
     "text": [
      "WARNING: Logging before flag parsing goes to stderr.\n",
      "W0829 20:14:32.276090 23332 deprecation_wrapper.py:119] From C:\\Users\\gudeg\\Anaconda3\\lib\\site-packages\\keras\\backend\\tensorflow_backend.py:74: The name tf.get_default_graph is deprecated. Please use tf.compat.v1.get_default_graph instead.\n",
      "\n",
      "W0829 20:14:32.304141 23332 deprecation_wrapper.py:119] From C:\\Users\\gudeg\\Anaconda3\\lib\\site-packages\\keras\\backend\\tensorflow_backend.py:517: The name tf.placeholder is deprecated. Please use tf.compat.v1.placeholder instead.\n",
      "\n",
      "W0829 20:14:32.308092 23332 deprecation_wrapper.py:119] From C:\\Users\\gudeg\\Anaconda3\\lib\\site-packages\\keras\\backend\\tensorflow_backend.py:4138: The name tf.random_uniform is deprecated. Please use tf.random.uniform instead.\n",
      "\n",
      "W0829 20:14:32.348097 23332 deprecation_wrapper.py:119] From C:\\Users\\gudeg\\Anaconda3\\lib\\site-packages\\keras\\backend\\tensorflow_backend.py:3976: The name tf.nn.max_pool is deprecated. Please use tf.nn.max_pool2d instead.\n",
      "\n",
      "W0829 20:14:32.356128 23332 deprecation_wrapper.py:119] From C:\\Users\\gudeg\\Anaconda3\\lib\\site-packages\\keras\\backend\\tensorflow_backend.py:133: The name tf.placeholder_with_default is deprecated. Please use tf.compat.v1.placeholder_with_default instead.\n",
      "\n",
      "W0829 20:14:32.372088 23332 deprecation.py:506] From C:\\Users\\gudeg\\Anaconda3\\lib\\site-packages\\keras\\backend\\tensorflow_backend.py:3445: calling dropout (from tensorflow.python.ops.nn_ops) with keep_prob is deprecated and will be removed in a future version.\n",
      "Instructions for updating:\n",
      "Please use `rate` instead of `keep_prob`. Rate should be set to `rate = 1 - keep_prob`.\n"
     ]
    }
   ],
   "source": [
    "# make model\n",
    "model = network(dataset.image_shape, dataset.num_classes)"
   ]
  },
  {
   "cell_type": "code",
   "execution_count": 10,
   "metadata": {},
   "outputs": [
    {
     "name": "stdout",
     "output_type": "stream",
     "text": [
      "Train on 40000 samples, validate on 10000 samples\n",
      "Epoch 1/13\n",
      "40000/40000 [==============================] - 85s 2ms/step - loss: 1.0370 - acc: 0.6368 - val_loss: 0.9211 - val_acc: 0.6751\n",
      "Epoch 2/13\n",
      "40000/40000 [==============================] - 79s 2ms/step - loss: 0.9843 - acc: 0.6542 - val_loss: 0.8869 - val_acc: 0.6893\n",
      "Epoch 3/13\n",
      "40000/40000 [==============================] - 85s 2ms/step - loss: 0.9513 - acc: 0.6666 - val_loss: 0.9651 - val_acc: 0.6659\n",
      "Epoch 4/13\n",
      "40000/40000 [==============================] - 78s 2ms/step - loss: 0.9194 - acc: 0.6755 - val_loss: 0.8588 - val_acc: 0.6989\n",
      "Epoch 5/13\n",
      "40000/40000 [==============================] - 88s 2ms/step - loss: 0.8916 - acc: 0.6904 - val_loss: 0.8382 - val_acc: 0.7092\n",
      "Epoch 6/13\n",
      "40000/40000 [==============================] - 83s 2ms/step - loss: 0.8690 - acc: 0.6949 - val_loss: 0.8180 - val_acc: 0.7156\n",
      "Epoch 7/13\n",
      "40000/40000 [==============================] - 84s 2ms/step - loss: 0.8533 - acc: 0.7028 - val_loss: 0.7839 - val_acc: 0.7338\n",
      "Epoch 8/13\n",
      "40000/40000 [==============================] - 89s 2ms/step - loss: 0.8363 - acc: 0.7084 - val_loss: 0.7773 - val_acc: 0.7339\n",
      "Epoch 9/13\n",
      "40000/40000 [==============================] - 93s 2ms/step - loss: 0.8183 - acc: 0.7175 - val_loss: 0.7802 - val_acc: 0.7328\n",
      "Epoch 10/13\n",
      "40000/40000 [==============================] - 93s 2ms/step - loss: 0.8139 - acc: 0.7180 - val_loss: 0.8055 - val_acc: 0.7274\n",
      "Epoch 11/13\n",
      "40000/40000 [==============================] - 87s 2ms/step - loss: 0.8000 - acc: 0.7235 - val_loss: 0.7971 - val_acc: 0.7283\n",
      "Epoch 12/13\n",
      "40000/40000 [==============================] - 81s 2ms/step - loss: 0.7947 - acc: 0.7264 - val_loss: 0.7574 - val_acc: 0.7435\n",
      "Epoch 13/13\n",
      "40000/40000 [==============================] - 79s 2ms/step - loss: 0.7832 - acc: 0.7288 - val_loss: 0.7722 - val_acc: 0.7397\n"
     ]
    }
   ],
   "source": [
    "# prepare data\n",
    "X_train, y_train, X_test, y_test = dataset.get_batch()\n",
    "\n",
    "# train the model\n",
    "trainer = Trainer(model, loss='categorical_crossentropy',\n",
    "                 optimizer=RMSprop())\n",
    "\n",
    "trainer.train(X_train, y_train, batch_size=128, epochs=13, validation_split=0.2)"
   ]
  },
  {
   "cell_type": "code",
   "execution_count": 11,
   "metadata": {},
   "outputs": [],
   "source": [
    "# show result\n",
    "score = model.evaluate(X_test, y_test, verbose=0)"
   ]
  },
  {
   "cell_type": "code",
   "execution_count": 12,
   "metadata": {},
   "outputs": [
    {
     "name": "stdout",
     "output_type": "stream",
     "text": [
      "Test loss: 0.7907178189277649\n",
      "Test accuracy: 0.7308\n"
     ]
    }
   ],
   "source": [
    "print('Test loss:', score[0])\n",
    "print('Test accuracy:', score[1])"
   ]
  },
  {
   "cell_type": "code",
   "execution_count": null,
   "metadata": {},
   "outputs": [],
   "source": []
  },
  {
   "cell_type": "code",
   "execution_count": null,
   "metadata": {},
   "outputs": [],
   "source": []
  }
 ],
 "metadata": {
  "kernelspec": {
   "display_name": "Python 3",
   "language": "python",
   "name": "python3"
  },
  "language_info": {
   "codemirror_mode": {
    "name": "ipython",
    "version": 3
   },
   "file_extension": ".py",
   "mimetype": "text/x-python",
   "name": "python",
   "nbconvert_exporter": "python",
   "pygments_lexer": "ipython3",
   "version": "3.7.3"
  }
 },
 "nbformat": 4,
 "nbformat_minor": 2
}
